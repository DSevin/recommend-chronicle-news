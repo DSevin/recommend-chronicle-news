{
 "cells": [
  {
   "cell_type": "code",
   "execution_count": 43,
   "metadata": {},
   "outputs": [],
   "source": [
    "import pandas as pd\n",
    "\n",
    "# Load your dataset\n",
    "df = pd.read_csv('articles_075040.csv', encoding='latin-1')\n"
   ]
  },
  {
   "cell_type": "code",
   "execution_count": 44,
   "metadata": {},
   "outputs": [
    {
     "data": {
      "text/html": [
       "<div>\n",
       "<style scoped>\n",
       "    .dataframe tbody tr th:only-of-type {\n",
       "        vertical-align: middle;\n",
       "    }\n",
       "\n",
       "    .dataframe tbody tr th {\n",
       "        vertical-align: top;\n",
       "    }\n",
       "\n",
       "    .dataframe thead th {\n",
       "        text-align: right;\n",
       "    }\n",
       "</style>\n",
       "<table border=\"1\" class=\"dataframe\">\n",
       "  <thead>\n",
       "    <tr style=\"text-align: right;\">\n",
       "      <th></th>\n",
       "      <th>Title</th>\n",
       "      <th>URL</th>\n",
       "      <th>Content</th>\n",
       "    </tr>\n",
       "  </thead>\n",
       "  <tbody>\n",
       "    <tr>\n",
       "      <th>0</th>\n",
       "      <td>Chevrons lose t20i series opener in bangladesh</td>\n",
       "      <td>https://www.chronicle.co.zw/chevrons-lose-t20i...</td>\n",
       "      <td>ZIMBABWE senior mens national cricket team go...</td>\n",
       "    </tr>\n",
       "    <tr>\n",
       "      <th>1</th>\n",
       "      <td>Vice president mohadi arrives for public priva...</td>\n",
       "      <td>https://www.chronicle.co.zw/vice-president-moh...</td>\n",
       "      <td>Rutendo Nyeve and Nqobile Bhebhe Chronicle Wri...</td>\n",
       "    </tr>\n",
       "    <tr>\n",
       "      <th>2</th>\n",
       "      <td>President mnangagwa arrives at the zimbabwe mi...</td>\n",
       "      <td>https://www.chronicle.co.zw/president-mnangagw...</td>\n",
       "      <td>Patrick Chitumba, Online Reporter PRESIDENT Mn...</td>\n",
       "    </tr>\n",
       "    <tr>\n",
       "      <th>3</th>\n",
       "      <td>Four players to serve one psl game suspension ...</td>\n",
       "      <td>https://www.chronicle.co.zw/four-players-to-se...</td>\n",
       "      <td>Fungai Muderere, Senior Sports Reporter FOUR C...</td>\n",
       "    </tr>\n",
       "    <tr>\n",
       "      <th>4</th>\n",
       "      <td>Divine lunga wins another psl title in south a...</td>\n",
       "      <td>https://www.chronicle.co.zw/divine-lunga-wins-...</td>\n",
       "      <td>Fungai Muderere, Senior Sports Reporter ZIMBAB...</td>\n",
       "    </tr>\n",
       "  </tbody>\n",
       "</table>\n",
       "</div>"
      ],
      "text/plain": [
       "                                               Title  \\\n",
       "0     Chevrons lose t20i series opener in bangladesh   \n",
       "1  Vice president mohadi arrives for public priva...   \n",
       "2  President mnangagwa arrives at the zimbabwe mi...   \n",
       "3  Four players to serve one psl game suspension ...   \n",
       "4  Divine lunga wins another psl title in south a...   \n",
       "\n",
       "                                                 URL  \\\n",
       "0  https://www.chronicle.co.zw/chevrons-lose-t20i...   \n",
       "1  https://www.chronicle.co.zw/vice-president-moh...   \n",
       "2  https://www.chronicle.co.zw/president-mnangagw...   \n",
       "3  https://www.chronicle.co.zw/four-players-to-se...   \n",
       "4  https://www.chronicle.co.zw/divine-lunga-wins-...   \n",
       "\n",
       "                                             Content  \n",
       "0  ZIMBABWE senior mens national cricket team go...  \n",
       "1  Rutendo Nyeve and Nqobile Bhebhe Chronicle Wri...  \n",
       "2  Patrick Chitumba, Online Reporter PRESIDENT Mn...  \n",
       "3  Fungai Muderere, Senior Sports Reporter FOUR C...  \n",
       "4  Fungai Muderere, Senior Sports Reporter ZIMBAB...  "
      ]
     },
     "execution_count": 44,
     "metadata": {},
     "output_type": "execute_result"
    }
   ],
   "source": [
    "df.head()"
   ]
  },
  {
   "cell_type": "code",
   "execution_count": 45,
   "metadata": {},
   "outputs": [
    {
     "name": "stdout",
     "output_type": "stream",
     "text": [
      "Index(['Title', 'URL', 'Content'], dtype='object')\n"
     ]
    }
   ],
   "source": [
    "print(df.columns)"
   ]
  },
  {
   "cell_type": "code",
   "execution_count": 46,
   "metadata": {},
   "outputs": [],
   "source": [
    "from sklearn.feature_extraction.text import TfidfVectorizer\n",
    "from sklearn.metrics.pairwise import linear_kernel\n",
    "\n",
    "# Text preprocessing and Tfidf vectorization\n",
    "tfidf = TfidfVectorizer(stop_words='english')\n",
    "df['Content'] = df['Content'].fillna('')  # Fill missing values with empty string\n",
    "tfidf_matrix = tfidf.fit_transform(df['Content'])"
   ]
  },
  {
   "cell_type": "code",
   "execution_count": 47,
   "metadata": {},
   "outputs": [],
   "source": [
    "# Compute the cosine similarity matrix\n",
    "cosine_sim = linear_kernel(tfidf_matrix, tfidf_matrix)\n"
   ]
  },
  {
   "cell_type": "code",
   "execution_count": 48,
   "metadata": {},
   "outputs": [
    {
     "data": {
      "text/plain": [
       "array([[1.00000000e+00, 7.46614427e-03, 6.50733847e-03, 6.85188956e-02,\n",
       "        2.60775204e-02, 6.86641433e-03, 2.30816713e-03, 7.46614427e-03,\n",
       "        8.56002191e-03, 1.23689172e-02, 2.44003810e-02, 7.56186392e-03,\n",
       "        2.72660327e-02, 7.59516380e-03, 1.10674502e-02, 1.35399267e-02,\n",
       "        8.83196429e-03, 8.40153182e-03, 5.52791525e-03, 1.71605374e-02,\n",
       "        1.58732077e-02],\n",
       "       [7.46614427e-03, 1.00000000e+00, 6.76621697e-02, 1.43072884e-02,\n",
       "        0.00000000e+00, 5.28681470e-02, 6.03354045e-01, 1.00000000e+00,\n",
       "        3.05377423e-02, 3.93323306e-02, 1.52655696e-02, 5.44561364e-02,\n",
       "        5.70574751e-02, 6.71293051e-02, 1.56361511e-02, 8.92550944e-02,\n",
       "        1.10826868e-02, 1.33837492e-02, 7.65900758e-02, 3.49066950e-02,\n",
       "        5.34213968e-04],\n",
       "       [6.50733847e-03, 6.76621697e-02, 1.00000000e+00, 2.17613072e-02,\n",
       "        1.50285138e-02, 9.46164861e-01, 4.34119870e-02, 6.76621697e-02,\n",
       "        1.65556752e-02, 1.27944207e-02, 2.84642407e-02, 2.42331186e-02,\n",
       "        3.79648949e-02, 1.23256964e-02, 1.89513632e-02, 1.50831041e-02,\n",
       "        2.25943705e-02, 1.40324374e-02, 1.82493985e-02, 1.55146074e-02,\n",
       "        1.52882434e-02],\n",
       "       [6.85188956e-02, 1.43072884e-02, 2.17613072e-02, 1.00000000e+00,\n",
       "        5.67916162e-02, 2.04601644e-02, 1.04383367e-02, 1.43072884e-02,\n",
       "        9.54015959e-03, 1.69662164e-02, 1.75670426e-02, 8.18453860e-03,\n",
       "        8.62673393e-03, 2.49311984e-03, 2.73248602e-02, 2.35691710e-02,\n",
       "        1.68579546e-02, 4.43170249e-03, 7.96252989e-03, 2.64638728e-02,\n",
       "        2.54435650e-02],\n",
       "       [2.60775204e-02, 0.00000000e+00, 1.50285138e-02, 5.67916162e-02,\n",
       "        1.00000000e+00, 9.49074647e-03, 1.29993399e-03, 0.00000000e+00,\n",
       "        3.92489264e-03, 3.14562814e-03, 8.85204841e-03, 2.77446428e-02,\n",
       "        1.40743809e-02, 1.51360237e-02, 3.17424110e-02, 1.98214088e-02,\n",
       "        3.20946052e-02, 1.46313102e-02, 2.19695984e-02, 2.69002942e-02,\n",
       "        3.19445132e-02],\n",
       "       [6.86641433e-03, 5.28681470e-02, 9.46164861e-01, 2.04601644e-02,\n",
       "        9.49074647e-03, 1.00000000e+00, 4.78794169e-02, 5.28681470e-02,\n",
       "        1.42992703e-02, 1.16841233e-02, 2.96576234e-02, 2.81091488e-02,\n",
       "        2.58390400e-02, 1.23346637e-02, 1.99971022e-02, 1.33711762e-02,\n",
       "        2.35555531e-02, 1.48067493e-02, 1.92564029e-02, 1.63707056e-02,\n",
       "        1.61318508e-02],\n",
       "       [2.30816713e-03, 6.03354045e-01, 4.34119870e-02, 1.04383367e-02,\n",
       "        1.29993399e-03, 4.78794169e-02, 1.00000000e+00, 6.03354045e-01,\n",
       "        3.91650412e-02, 6.42187442e-02, 2.49376574e-02, 7.88581585e-02,\n",
       "        1.31776723e-01, 7.63238347e-02, 9.74695600e-03, 1.30414622e-01,\n",
       "        3.05925464e-02, 1.70899100e-02, 8.98183767e-02, 5.90753471e-02,\n",
       "        5.21043970e-03],\n",
       "       [7.46614427e-03, 1.00000000e+00, 6.76621697e-02, 1.43072884e-02,\n",
       "        0.00000000e+00, 5.28681470e-02, 6.03354045e-01, 1.00000000e+00,\n",
       "        3.05377423e-02, 3.93323306e-02, 1.52655696e-02, 5.44561364e-02,\n",
       "        5.70574751e-02, 6.71293051e-02, 1.56361511e-02, 8.92550944e-02,\n",
       "        1.10826868e-02, 1.33837492e-02, 7.65900758e-02, 3.49066950e-02,\n",
       "        5.34213968e-04],\n",
       "       [8.56002191e-03, 3.05377423e-02, 1.65556752e-02, 9.54015959e-03,\n",
       "        3.92489264e-03, 1.42992703e-02, 3.91650412e-02, 3.05377423e-02,\n",
       "        1.00000000e+00, 4.08714792e-02, 5.76994128e-02, 8.88740006e-02,\n",
       "        3.42840796e-02, 2.37040903e-02, 9.41965874e-02, 4.59036955e-02,\n",
       "        3.88163647e-02, 3.38902275e-02, 6.86166792e-02, 5.29007254e-02,\n",
       "        3.67850901e-02],\n",
       "       [1.23689172e-02, 3.93323306e-02, 1.27944207e-02, 1.69662164e-02,\n",
       "        3.14562814e-03, 1.16841233e-02, 6.42187442e-02, 3.93323306e-02,\n",
       "        4.08714792e-02, 1.00000000e+00, 5.15866674e-02, 3.84814185e-02,\n",
       "        7.52627835e-02, 8.64563785e-02, 2.04235762e-02, 1.18544012e-01,\n",
       "        1.01662218e-01, 2.02606232e-02, 6.80698722e-02, 1.78798103e-01,\n",
       "        2.17028344e-02],\n",
       "       [2.44003810e-02, 1.52655696e-02, 2.84642407e-02, 1.75670426e-02,\n",
       "        8.85204841e-03, 2.96576234e-02, 2.49376574e-02, 1.52655696e-02,\n",
       "        5.76994128e-02, 5.15866674e-02, 1.00000000e+00, 3.48761901e-02,\n",
       "        5.22286712e-02, 4.46531972e-02, 2.53206230e-02, 3.65223507e-02,\n",
       "        4.98957564e-02, 2.11097962e-02, 3.51785883e-02, 4.05450928e-02,\n",
       "        4.33846122e-02],\n",
       "       [7.56186392e-03, 5.44561364e-02, 2.42331186e-02, 8.18453860e-03,\n",
       "        2.77446428e-02, 2.81091488e-02, 7.88581585e-02, 5.44561364e-02,\n",
       "        8.88740006e-02, 3.84814185e-02, 3.48761901e-02, 1.00000000e+00,\n",
       "        1.60571994e-02, 6.36930022e-02, 3.03324728e-01, 1.09570726e-01,\n",
       "        4.00188826e-02, 9.87150432e-02, 1.87731561e-01, 9.85930603e-02,\n",
       "        1.28235480e-01],\n",
       "       [2.72660327e-02, 5.70574751e-02, 3.79648949e-02, 8.62673393e-03,\n",
       "        1.40743809e-02, 2.58390400e-02, 1.31776723e-01, 5.70574751e-02,\n",
       "        3.42840796e-02, 7.52627835e-02, 5.22286712e-02, 1.60571994e-02,\n",
       "        1.00000000e+00, 8.46793407e-02, 1.34322011e-02, 6.53707463e-02,\n",
       "        6.95414057e-02, 2.99379691e-02, 5.45844272e-02, 5.43019082e-02,\n",
       "        5.62672967e-02],\n",
       "       [7.59516380e-03, 6.71293051e-02, 1.23256964e-02, 2.49311984e-03,\n",
       "        1.51360237e-02, 1.23346637e-02, 7.63238347e-02, 6.71293051e-02,\n",
       "        2.37040903e-02, 8.64563785e-02, 4.46531972e-02, 6.36930022e-02,\n",
       "        8.46793407e-02, 1.00000000e+00, 2.81127742e-02, 5.57053481e-02,\n",
       "        6.13136849e-02, 4.02242435e-02, 5.87332011e-02, 2.77932268e-02,\n",
       "        2.29274531e-02],\n",
       "       [1.10674502e-02, 1.56361511e-02, 1.89513632e-02, 2.73248602e-02,\n",
       "        3.17424110e-02, 1.99971022e-02, 9.74695600e-03, 1.56361511e-02,\n",
       "        9.41965874e-02, 2.04235762e-02, 2.53206230e-02, 3.03324728e-01,\n",
       "        1.34322011e-02, 2.81127742e-02, 1.00000000e+00, 2.08501266e-02,\n",
       "        6.96722816e-02, 2.08491259e-01, 1.53160840e-01, 7.77853374e-02,\n",
       "        3.04363365e-01],\n",
       "       [1.35399267e-02, 8.92550944e-02, 1.50831041e-02, 2.35691710e-02,\n",
       "        1.98214088e-02, 1.33711762e-02, 1.30414622e-01, 8.92550944e-02,\n",
       "        4.59036955e-02, 1.18544012e-01, 3.65223507e-02, 1.09570726e-01,\n",
       "        6.53707463e-02, 5.57053481e-02, 2.08501266e-02, 1.00000000e+00,\n",
       "        9.36134783e-02, 2.90269471e-02, 1.16779783e-01, 7.43156656e-02,\n",
       "        4.01089814e-02],\n",
       "       [8.83196429e-03, 1.10826868e-02, 2.25943705e-02, 1.68579546e-02,\n",
       "        3.20946052e-02, 2.35555531e-02, 3.05925464e-02, 1.10826868e-02,\n",
       "        3.88163647e-02, 1.01662218e-01, 4.98957564e-02, 4.00188826e-02,\n",
       "        6.95414057e-02, 6.13136849e-02, 6.96722816e-02, 9.36134783e-02,\n",
       "        1.00000000e+00, 4.68791407e-02, 6.59681895e-02, 5.82566676e-02,\n",
       "        6.95236838e-02],\n",
       "       [8.40153182e-03, 1.33837492e-02, 1.40324374e-02, 4.43170249e-03,\n",
       "        1.46313102e-02, 1.48067493e-02, 1.70899100e-02, 1.33837492e-02,\n",
       "        3.38902275e-02, 2.02606232e-02, 2.11097962e-02, 9.87150432e-02,\n",
       "        2.99379691e-02, 4.02242435e-02, 2.08491259e-01, 2.90269471e-02,\n",
       "        4.68791407e-02, 1.00000000e+00, 7.41607835e-02, 6.71724698e-02,\n",
       "        2.12288880e-01],\n",
       "       [5.52791525e-03, 7.65900758e-02, 1.82493985e-02, 7.96252989e-03,\n",
       "        2.19695984e-02, 1.92564029e-02, 8.98183767e-02, 7.65900758e-02,\n",
       "        6.86166792e-02, 6.80698722e-02, 3.51785883e-02, 1.87731561e-01,\n",
       "        5.45844272e-02, 5.87332011e-02, 1.53160840e-01, 1.16779783e-01,\n",
       "        6.59681895e-02, 7.41607835e-02, 1.00000000e+00, 8.20556453e-02,\n",
       "        1.27746491e-01],\n",
       "       [1.71605374e-02, 3.49066950e-02, 1.55146074e-02, 2.64638728e-02,\n",
       "        2.69002942e-02, 1.63707056e-02, 5.90753471e-02, 3.49066950e-02,\n",
       "        5.29007254e-02, 1.78798103e-01, 4.05450928e-02, 9.85930603e-02,\n",
       "        5.43019082e-02, 2.77932268e-02, 7.77853374e-02, 7.43156656e-02,\n",
       "        5.82566676e-02, 6.71724698e-02, 8.20556453e-02, 1.00000000e+00,\n",
       "        7.29401422e-02],\n",
       "       [1.58732077e-02, 5.34213968e-04, 1.52882434e-02, 2.54435650e-02,\n",
       "        3.19445132e-02, 1.61318508e-02, 5.21043970e-03, 5.34213968e-04,\n",
       "        3.67850901e-02, 2.17028344e-02, 4.33846122e-02, 1.28235480e-01,\n",
       "        5.62672967e-02, 2.29274531e-02, 3.04363365e-01, 4.01089814e-02,\n",
       "        6.95236838e-02, 2.12288880e-01, 1.27746491e-01, 7.29401422e-02,\n",
       "        1.00000000e+00]])"
      ]
     },
     "execution_count": 48,
     "metadata": {},
     "output_type": "execute_result"
    }
   ],
   "source": [
    "cosine_sim"
   ]
  },
  {
   "cell_type": "code",
   "execution_count": 50,
   "metadata": {},
   "outputs": [],
   "source": [
    "def get_recommendations(title, cosine_sim=cosine_sim):\n",
    "    # Adjust column names to match the DataFrame exactly\n",
    "    # Use 'Title' instead of 'title'\n",
    "    try:\n",
    "        idx = df[df['Title'].str.lower() == title.lower()].index[0]\n",
    "        sim_scores = list(enumerate(cosine_sim[idx]))\n",
    "        sim_scores = sorted(sim_scores, key=lambda x: x[1], reverse=True)\n",
    "        sim_scores = sim_scores[1:11]  # Exclude the original article\n",
    "        article_indices = [i[0] for i in sim_scores]\n",
    "\n",
    "        return df['Title'].iloc[article_indices]\n",
    "    except IndexError:\n",
    "        return \"Title not found in the dataset.\"\n",
    "    except Exception as e:\n",
    "        return str(e)"
   ]
  },
  {
   "cell_type": "code",
   "execution_count": 52,
   "metadata": {},
   "outputs": [
    {
     "name": "stdout",
     "output_type": "stream",
     "text": [
      "2     President mnangagwa arrives at the zimbabwe mi...\n",
      "1     Vice president mohadi arrives for public priva...\n",
      "7     Vice president mohadi arrives for public priva...\n",
      "6                 Vp mohadi to headline business indaba\n",
      "10    Delta corporation launches smart drinking and ...\n",
      "11    Zimplow holdings mealie brand capacitation pro...\n",
      "12    Zimbabwe investment summit kicks off in south ...\n",
      "16                           Econet breakthrough launch\n",
      "3     Four players to serve one psl game suspension ...\n",
      "14                        Zimplats retrench 67 in april\n",
      "Name: Title, dtype: object\n"
     ]
    }
   ],
   "source": [
    "print(get_recommendations('President mnangagwa presides over parade of regular officer cadet course'))"
   ]
  },
  {
   "cell_type": "code",
   "execution_count": null,
   "metadata": {},
   "outputs": [],
   "source": []
  }
 ],
 "metadata": {
  "kernelspec": {
   "display_name": "Python 3",
   "language": "python",
   "name": "python3"
  },
  "language_info": {
   "codemirror_mode": {
    "name": "ipython",
    "version": 3
   },
   "file_extension": ".py",
   "mimetype": "text/x-python",
   "name": "python",
   "nbconvert_exporter": "python",
   "pygments_lexer": "ipython3",
   "version": "3.7.8"
  }
 },
 "nbformat": 4,
 "nbformat_minor": 2
}
